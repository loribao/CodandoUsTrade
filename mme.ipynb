{
 "cells": [
  {
   "cell_type": "code",
   "execution_count": 1,
   "id": "d453b40c-a66d-432e-9615-6bdcedaffc31",
   "metadata": {},
   "outputs": [
    {
     "data": {
      "text/plain": [
       "\"C:\\\\Users\\\\lorib\\\\anaconda3\\\\envs\\\\conda_jl\\\\condabin\\\\conda\""
      ]
     },
     "execution_count": 1,
     "metadata": {},
     "output_type": "execute_result"
    }
   ],
   "source": [
    "ENV[\"CONDA_JL_HOME\"] = \"C:\\\\Users\\\\lorib\\\\anaconda3\\\\envs\\\\conda_jl\"\n",
    "ENV[\"CONDA_JL_CONDA_EXE\"]= \"C:\\\\Users\\\\lorib\\\\anaconda3\\\\envs\\\\conda_jl\\\\condabin\\\\conda\""
   ]
  },
  {
   "cell_type": "code",
   "execution_count": 2,
   "id": "1170da52-07e4-436f-9b28-f14b7e38985b",
   "metadata": {},
   "outputs": [
    {
     "name": "stderr",
     "output_type": "stream",
     "text": [
      "┌ Info: For saving to png with the Plotly backend PlotlyBase has to be installed.\n",
      "└ @ Plots C:\\Users\\lorib\\.julia\\packages\\Plots\\lW9ll\\src\\backends.jl:318\n"
     ]
    },
    {
     "data": {
      "text/plain": [
       "Plots.PlotlyBackend()"
      ]
     },
     "execution_count": 2,
     "metadata": {},
     "output_type": "execute_result"
    }
   ],
   "source": [
    "using Plots\n",
    "plotly()"
   ]
  },
  {
   "cell_type": "code",
   "execution_count": 3,
   "id": "d82fba62-ec5e-48a1-8e98-fcebfecc0340",
   "metadata": {},
   "outputs": [],
   "source": [
    "using PyCall\n",
    "using Conda\n",
    "\n",
    "@pyimport vectorbt as vbt"
   ]
  },
  {
   "cell_type": "code",
   "execution_count": 7,
   "id": "675c7958-0c7b-4327-a69a-930aad02fcba",
   "metadata": {},
   "outputs": [
    {
     "name": "stderr",
     "output_type": "stream",
     "text": [
      "C:\\Users\\lorib\\anaconda3\\lib\\site-packages\\dateparser\\date_parser.py:35: PytzUsageWarning: The localize method is no longer necessary, as this time zone supports the fold attribute (PEP 495). For more details on migrating to a PEP 495-compliant implementation, see https://pytz-deprecation-shim.readthedocs.io/en/latest/migration.html\n",
      "  date_obj = stz.localize(date_obj)\n",
      "2022-07-01 03:00:00+00:00 - 2022-09-01 00:00:00+00:00: : 1it [00:01,  1.04s/it]\n"
     ]
    },
    {
     "data": {
      "text/html": [
       "<div>\n",
       "<style scoped>\n",
       "    .dataframe tbody tr th:only-of-type {\n",
       "        vertical-align: middle;\n",
       "    }\n",
       "\n",
       "    .dataframe tbody tr th {\n",
       "        vertical-align: top;\n",
       "    }\n",
       "\n",
       "    .dataframe thead th {\n",
       "        text-align: right;\n",
       "    }\n",
       "</style>\n",
       "<table border=\"1\" class=\"dataframe\">\n",
       "  <thead>\n",
       "    <tr style=\"text-align: right;\">\n",
       "      <th></th>\n",
       "      <th>Open</th>\n",
       "      <th>High</th>\n",
       "      <th>Low</th>\n",
       "      <th>Close</th>\n",
       "      <th>Volume</th>\n",
       "      <th>Close time</th>\n",
       "      <th>Quote volume</th>\n",
       "      <th>Number of trades</th>\n",
       "      <th>Taker base volume</th>\n",
       "      <th>Taker quote volume</th>\n",
       "    </tr>\n",
       "    <tr>\n",
       "      <th>Open time</th>\n",
       "      <th></th>\n",
       "      <th></th>\n",
       "      <th></th>\n",
       "      <th></th>\n",
       "      <th></th>\n",
       "      <th></th>\n",
       "      <th></th>\n",
       "      <th></th>\n",
       "      <th></th>\n",
       "      <th></th>\n",
       "    </tr>\n",
       "  </thead>\n",
       "  <tbody>\n",
       "    <tr>\n",
       "      <th>2022-07-02 00:00:00+00:00</th>\n",
       "      <td>0.4621</td>\n",
       "      <td>0.4963</td>\n",
       "      <td>0.4486</td>\n",
       "      <td>0.4930</td>\n",
       "      <td>183222500.6</td>\n",
       "      <td>2022-07-02 23:59:59.999000+00:00</td>\n",
       "      <td>8.585046e+07</td>\n",
       "      <td>180390</td>\n",
       "      <td>91563323.0</td>\n",
       "      <td>4.290912e+07</td>\n",
       "    </tr>\n",
       "    <tr>\n",
       "      <th>2022-07-03 00:00:00+00:00</th>\n",
       "      <td>0.4931</td>\n",
       "      <td>0.4942</td>\n",
       "      <td>0.4491</td>\n",
       "      <td>0.4621</td>\n",
       "      <td>170900076.3</td>\n",
       "      <td>2022-07-03 23:59:59.999000+00:00</td>\n",
       "      <td>8.045481e+07</td>\n",
       "      <td>200466</td>\n",
       "      <td>85517929.3</td>\n",
       "      <td>4.026771e+07</td>\n",
       "    </tr>\n",
       "    <tr>\n",
       "      <th>2022-07-04 00:00:00+00:00</th>\n",
       "      <td>0.4621</td>\n",
       "      <td>0.4953</td>\n",
       "      <td>0.4513</td>\n",
       "      <td>0.4918</td>\n",
       "      <td>166121678.0</td>\n",
       "      <td>2022-07-04 23:59:59.999000+00:00</td>\n",
       "      <td>7.818459e+07</td>\n",
       "      <td>189049</td>\n",
       "      <td>83822802.5</td>\n",
       "      <td>3.947073e+07</td>\n",
       "    </tr>\n",
       "    <tr>\n",
       "      <th>2022-07-05 00:00:00+00:00</th>\n",
       "      <td>0.4917</td>\n",
       "      <td>0.5355</td>\n",
       "      <td>0.4857</td>\n",
       "      <td>0.5127</td>\n",
       "      <td>335931980.8</td>\n",
       "      <td>2022-07-05 23:59:59.999000+00:00</td>\n",
       "      <td>1.719209e+08</td>\n",
       "      <td>412806</td>\n",
       "      <td>170009772.2</td>\n",
       "      <td>8.702289e+07</td>\n",
       "    </tr>\n",
       "    <tr>\n",
       "      <th>2022-07-06 00:00:00+00:00</th>\n",
       "      <td>0.5127</td>\n",
       "      <td>0.5308</td>\n",
       "      <td>0.4929</td>\n",
       "      <td>0.5257</td>\n",
       "      <td>242883092.8</td>\n",
       "      <td>2022-07-06 23:59:59.999000+00:00</td>\n",
       "      <td>1.248979e+08</td>\n",
       "      <td>303334</td>\n",
       "      <td>119640573.9</td>\n",
       "      <td>6.153892e+07</td>\n",
       "    </tr>\n",
       "    <tr>\n",
       "      <th>...</th>\n",
       "      <td>...</td>\n",
       "      <td>...</td>\n",
       "      <td>...</td>\n",
       "      <td>...</td>\n",
       "      <td>...</td>\n",
       "      <td>...</td>\n",
       "      <td>...</td>\n",
       "      <td>...</td>\n",
       "      <td>...</td>\n",
       "      <td>...</td>\n",
       "    </tr>\n",
       "    <tr>\n",
       "      <th>2022-08-28 00:00:00+00:00</th>\n",
       "      <td>0.8049</td>\n",
       "      <td>0.8340</td>\n",
       "      <td>0.7771</td>\n",
       "      <td>0.7824</td>\n",
       "      <td>76338584.1</td>\n",
       "      <td>2022-08-28 23:59:59.999000+00:00</td>\n",
       "      <td>6.201818e+07</td>\n",
       "      <td>200269</td>\n",
       "      <td>37627727.0</td>\n",
       "      <td>3.055902e+07</td>\n",
       "    </tr>\n",
       "    <tr>\n",
       "      <th>2022-08-29 00:00:00+00:00</th>\n",
       "      <td>0.7827</td>\n",
       "      <td>0.8211</td>\n",
       "      <td>0.7617</td>\n",
       "      <td>0.8168</td>\n",
       "      <td>102998979.9</td>\n",
       "      <td>2022-08-29 23:59:59.999000+00:00</td>\n",
       "      <td>8.176315e+07</td>\n",
       "      <td>253410</td>\n",
       "      <td>48681732.7</td>\n",
       "      <td>3.859919e+07</td>\n",
       "    </tr>\n",
       "    <tr>\n",
       "      <th>2022-08-30 00:00:00+00:00</th>\n",
       "      <td>0.8165</td>\n",
       "      <td>0.8441</td>\n",
       "      <td>0.7827</td>\n",
       "      <td>0.8153</td>\n",
       "      <td>85386455.6</td>\n",
       "      <td>2022-08-30 23:59:59.999000+00:00</td>\n",
       "      <td>6.964019e+07</td>\n",
       "      <td>204794</td>\n",
       "      <td>43733889.7</td>\n",
       "      <td>3.568159e+07</td>\n",
       "    </tr>\n",
       "    <tr>\n",
       "      <th>2022-08-31 00:00:00+00:00</th>\n",
       "      <td>0.8153</td>\n",
       "      <td>0.8567</td>\n",
       "      <td>0.8153</td>\n",
       "      <td>0.8323</td>\n",
       "      <td>80353318.7</td>\n",
       "      <td>2022-08-31 23:59:59.999000+00:00</td>\n",
       "      <td>6.692875e+07</td>\n",
       "      <td>214619</td>\n",
       "      <td>42434665.4</td>\n",
       "      <td>3.533760e+07</td>\n",
       "    </tr>\n",
       "    <tr>\n",
       "      <th>2022-09-01 00:00:00+00:00</th>\n",
       "      <td>0.8322</td>\n",
       "      <td>0.8546</td>\n",
       "      <td>0.8242</td>\n",
       "      <td>0.8279</td>\n",
       "      <td>26903172.3</td>\n",
       "      <td>2022-09-01 23:59:59.999000+00:00</td>\n",
       "      <td>2.266840e+07</td>\n",
       "      <td>67454</td>\n",
       "      <td>13538264.2</td>\n",
       "      <td>1.141803e+07</td>\n",
       "    </tr>\n",
       "  </tbody>\n",
       "</table>\n",
       "<p>62 rows × 10 columns</p>\n",
       "</div>"
      ],
      "text/plain": [
       "PyObject                              Open  ...  Taker quote volume\n",
       "Open time                          ...                    \n",
       "2022-07-02 00:00:00+00:00  0.4621  ...        4.290912e+07\n",
       "2022-07-03 00:00:00+00:00  0.4931  ...        4.026771e+07\n",
       "2022-07-04 00:00:00+00:00  0.4621  ...        3.947073e+07\n",
       "2022-07-05 00:00:00+00:00  0.4917  ...        8.702289e+07\n",
       "2022-07-06 00:00:00+00:00  0.5127  ...        6.153892e+07\n",
       "...                           ...  ...                 ...\n",
       "2022-08-28 00:00:00+00:00  0.8049  ...        3.055902e+07\n",
       "2022-08-29 00:00:00+00:00  0.7827  ...        3.859919e+07\n",
       "2022-08-30 00:00:00+00:00  0.8165  ...        3.568159e+07\n",
       "2022-08-31 00:00:00+00:00  0.8153  ...        3.533760e+07\n",
       "2022-09-01 00:00:00+00:00  0.8322  ...        1.141803e+07\n",
       "\n",
       "[62 rows x 10 columns]"
      ]
     },
     "execution_count": 7,
     "metadata": {},
     "output_type": "execute_result"
    }
   ],
   "source": [
    "dados_dia = vbt.BinanceData.download(\"MATICUSDT\", start=\"2022-07-01\",interval=\"1d\").get()"
   ]
  },
  {
   "cell_type": "markdown",
   "id": "1e10b305-38a6-4ca1-97d7-bd66287abb32",
   "metadata": {},
   "source": [
    "# Criando indicador MME"
   ]
  },
  {
   "cell_type": "code",
   "execution_count": 53,
   "id": "eaa5e3c9-0807-4ee0-ab8b-4087998028a2",
   "metadata": {},
   "outputs": [
    {
     "data": {
      "text/plain": [
       "8-element Vector{Int64}:\n",
       " 1\n",
       " 2\n",
       " 3\n",
       " 4\n",
       " 5\n",
       " 6\n",
       " 7\n",
       " 8"
      ]
     },
     "execution_count": 53,
     "metadata": {},
     "output_type": "execute_result"
    }
   ],
   "source": [
    "V= [1,2,3,4,5,6,7,8]"
   ]
  },
  {
   "cell_type": "code",
   "execution_count": 54,
   "id": "fa803d94-5434-48f8-90b9-f8a30019476a",
   "metadata": {},
   "outputs": [
    {
     "data": {
      "text/plain": [
       "8-element Vector{Union{Missing, Float64}}:\n",
       "  missing\n",
       "  missing\n",
       " 2.0\n",
       " 3.0\n",
       " 4.0\n",
       " 5.0\n",
       " 6.0\n",
       " 7.0"
      ]
     },
     "execution_count": 54,
     "metadata": {},
     "output_type": "execute_result"
    }
   ],
   "source": [
    "[ i >= P ? ∑(V[i-P+1:i])/P : missing for i ∈ 1:n]"
   ]
  },
  {
   "cell_type": "code",
   "execution_count": 55,
   "id": "47615bd6-3314-4571-a437-f74c4b9e776f",
   "metadata": {},
   "outputs": [
    {
     "data": {
      "text/plain": [
       "SMA (generic function with 1 method)"
      ]
     },
     "execution_count": 55,
     "metadata": {},
     "output_type": "execute_result"
    }
   ],
   "source": [
    "∑ᵢᵏ = sum\n"
   ]
  },
  {
   "cell_type": "code",
   "execution_count": 50,
   "id": "551e165f-17cc-4c96-a4f7-e77059342673",
   "metadata": {},
   "outputs": [
    {
     "data": {
      "text/plain": [
       "8-element Vector{Union{Missing, Float64}}:\n",
       "  missing\n",
       "  missing\n",
       " 2.0\n",
       " 3.0\n",
       " 4.0\n",
       " 5.0\n",
       " 6.0\n",
       " 7.0"
      ]
     },
     "execution_count": 50,
     "metadata": {},
     "output_type": "execute_result"
    }
   ],
   "source": [
    "SMA(V,3)"
   ]
  },
  {
   "cell_type": "code",
   "execution_count": null,
   "id": "a39eb749-61ac-4910-b92d-e9fd18974719",
   "metadata": {},
   "outputs": [],
   "source": [
    "length"
   ]
  }
 ],
 "metadata": {
  "kernelspec": {
   "display_name": "Julia 1.8.0",
   "language": "julia",
   "name": "julia-1.8"
  },
  "language_info": {
   "file_extension": ".jl",
   "mimetype": "application/julia",
   "name": "julia",
   "version": "1.8.0"
  }
 },
 "nbformat": 4,
 "nbformat_minor": 5
}
